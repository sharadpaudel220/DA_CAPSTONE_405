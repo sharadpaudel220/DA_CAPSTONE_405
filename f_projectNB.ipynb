{
 "cells": [
  {
   "cell_type": "code",
   "execution_count": 1,
   "metadata": {},
   "outputs": [],
   "source": [
    "import pandas as pd\n",
    "import pyspark as ps\n",
    "from pyspark.sql import SparkSession\n",
    "from pyspark.sql.functions import *\n",
    "import os\n",
    "import re\n",
    "from pyspark.sql.types import StringType\n",
    "import numpy as np\n",
    "import requests\n",
    "from pprint import pp"
   ]
  },
  {
   "cell_type": "code",
   "execution_count": 2,
   "metadata": {},
   "outputs": [],
   "source": [
    "# Creating Spark Session\n",
    "spark = SparkSession.builder.appName('SBA 350').getOrCreate()\n",
    "# Reading /loading the Dataset from JSON file, SPARK by defualt infersSchema for JSON files; only need headers parameter typically for csv files\n",
    "customer_spark = spark.read.load(\"cdw_sapp_customer.json\", format=\"json\")\n",
    "branch_spark = spark.read.load(\"cdw_sapp_branch.json\", format= \"json\")\n",
    "credit_spark = spark.read.load(\"cdw_sapp_credit.json\", format= \"json\")"
   ]
  },
  {
   "cell_type": "code",
   "execution_count": null,
   "metadata": {},
   "outputs": [],
   "source": [
    "# credit_spark.show()\n",
    "credit_spark.dtypes\n",
    "# [('BRANCH_CODE', 'bigint'),\n",
    "#  ('CREDIT_CARD_NO', 'string'),\n",
    "#  ('CUST_SSN', 'bigint'),\n",
    "#  ('DAY', 'bigint'),\n",
    "#  ('MONTH', 'bigint'),\n",
    "#  ('TRANSACTION_ID', 'bigint'),\n",
    "#  ('TRANSACTION_TYPE', 'string'),\n",
    "#  ('TRANSACTION_VALUE', 'double'),\n",
    "#  ('YEAR', 'bigint')]"
   ]
  },
  {
   "cell_type": "code",
   "execution_count": null,
   "metadata": {},
   "outputs": [],
   "source": [
    "# branch_spark.show()\n",
    "branch_spark.dtypes\n",
    "# [('BRANCH_CITY', 'string'),\n",
    "#  ('BRANCH_CODE', 'bigint'),\n",
    "#  ('BRANCH_NAME', 'string'),\n",
    "#  ('BRANCH_PHONE', 'string'),\n",
    "#  ('BRANCH_STATE', 'string'),\n",
    "#  ('BRANCH_STREET', 'string'),\n",
    "#  ('BRANCH_ZIP', 'bigint'),\n",
    "#  ('LAST_UPDATED', 'string')]"
   ]
  },
  {
   "cell_type": "code",
   "execution_count": 25,
   "metadata": {},
   "outputs": [
    {
     "name": "stdout",
     "output_type": "stream",
     "text": [
      "[('APT_NO', 'string'), ('CREDIT_CARD_NO', 'string'), ('CUST_CITY', 'string'), ('CUST_COUNTRY', 'string'), ('CUST_EMAIL', 'string'), ('CUST_PHONE', 'bigint'), ('CUST_STATE', 'string'), ('CUST_ZIP', 'string'), ('FIRST_NAME', 'string'), ('LAST_NAME', 'string'), ('LAST_UPDATED', 'string'), ('MIDDLE_NAME', 'string'), ('SSN', 'bigint'), ('STREET_NAME', 'string')]\n",
      "952\n",
      "952\n"
     ]
    }
   ],
   "source": [
    "\n",
    "print(customer_spark.dtypes)\n",
    "#[('APT_NO', 'string'),\n",
    "#  ('CREDIT_CARD_NO', 'string'),\n",
    "#  ('CUST_CITY', 'string'),\n",
    "#  ('CUST_COUNTRY', 'string'),\n",
    "#  ('CUST_EMAIL', 'string'),\n",
    "#  ('CUST_PHONE', 'bigint'),\n",
    "#  ('CUST_STATE', 'string'),\n",
    "#  ('CUST_ZIP', 'string'),\n",
    "#  ('FIRST_NAME', 'string'),\n",
    "#  ('LAST_NAME', 'string'),\n",
    "#  ('LAST_UPDATED', 'string'),\n",
    "#  ('MIDDLE_NAME', 'string'),\n",
    "#  ('SSN', 'bigint'),\n",
    "#  ('STREET_NAME', 'string')]\n",
    "print(customer_spark.count())\n",
    "print(customer_spark.distinct().count())"
   ]
  },
  {
   "cell_type": "code",
   "execution_count": 3,
   "metadata": {},
   "outputs": [],
   "source": [
    "\n",
    "# tan_customer = customer_spark['FIRST_NAME', 'MIDDLE_NAME', 'LAST_NAME', 'STREET_NAME','APT_NO', 'CUST_PHONE']\n",
    "# customer_spark.createOrReplaceTempView('customer')\n",
    "\n",
    "\n",
    "def tran_cust_title_case(df, column_name):\n",
    "    return df.withColumn(column_name,initcap(col(column_name)))\n",
    "def tran_cust_lower_case(df, column_name):\n",
    "    return df.withColumn(column_name,lower(col(column_name)))\n",
    "def concat_cust_street_apt(df, col1, col2):\n",
    "    #concat_ws concatenates multiple string columns \n",
    "    return df.withColumn('FULL_STREET_ADDRESS', concat_ws(',', col(col1), col(col2)))\n",
    "#the cust_phone doesn't have an area code, need to rectify somehow\n",
    "def tran_phone_num(df, column_name):\n",
    "    return df.withColumn(column_name, concat(lit('('), \n",
    "                                             substring(col(column_name), 1, 3),\n",
    "                                             lit(')'),\n",
    "                                             substring(col(column_name), 4, 3),\n",
    "                                             lit('-'),\n",
    "                                             substring(col(column_name), 7, 4))\n",
    "                                             .cast('string'))\n",
    "#checks if the branches zip is null and defaults it to 99999, and if it isn't it returns the branches zip\n",
    "def tran_branch_zip(df):\n",
    "    return df.withColumn('BRANCH_ZIP', when(col('BRANCH_ZIP').isNull(), lit(99999)).otherwise(col('BRANCH_ZIP')))\n",
    "\n",
    "#match cust state to branch state and slice branch phone 3-5 (last included?) to append to cust phone after 2nd element\n",
    "#first left join the cust df and the branch df on their respective states like in sql\n",
    "#getting duplicate rows are created for each row the join operation matches\n",
    "custJoinbranch = customer_spark.join(branch_spark, customer_spark['CUST_STATE'] == branch_spark['BRANCH_STATE'], 'left')\n",
    "\n",
    "# Updating the customer phone by appending a sliced portion of the branch phone\n",
    "customer_fix = custJoinbranch.withColumn('CUST_PHONE', concat(col('CUST_PHONE').substr(1, 2), col('BRANCH_PHONE').substr(3, 3), col('CUST_PHONE').substr(3, 7)))\n",
    "unwanted_columns = branch_spark.columns\n",
    "#asterisk unpacks the columns from branch_spark so drop doesn't receive it all as a single argument and understands they're\n",
    "# individual column names. Drop duplicates on cust_ssn so different family members living together aren't dropped. W/o the column \n",
    "# selection we'd have 3700 distinct entries vs the 952 we started with\n",
    "customer_fix = customer_fix.drop(*unwanted_columns).dropDuplicates(['SSN'])\n",
    "\n",
    "# concat the day, month, year columns into a TIMEID (YYYYMMDD)\n",
    "def tran_to_timeid(df, day, month, year):\n",
    "    # first concat the columns so you can use the to_date function so its format won't match the \n",
    "    # other tables. Need to lpad the month and day values so not to throw error when parsing to\n",
    "    # to_date. The 2 represents the desired length of the string and the 0 is what we're left-padding \n",
    "    # with. Can't even do what the mapping logic wants YYYYMMDD\n",
    "    date_string = concat(\n",
    "        col(year),\n",
    "        lpad(col(month), 2, '0'),\n",
    "        lpad(col(day), 2, '0'))\n",
    "    return df.withColumn('TIMEID', to_date(date_string, 'yyyyMMdd'))"
   ]
  },
  {
   "cell_type": "code",
   "execution_count": 4,
   "metadata": {},
   "outputs": [
    {
     "name": "stdout",
     "output_type": "stream",
     "text": [
      "952\n",
      "952\n",
      "115\n",
      "115\n",
      "5665\n",
      "5665\n",
      "952\n",
      "952\n"
     ]
    }
   ],
   "source": [
    "print(customer_spark.count())\n",
    "print(customer_spark.distinct().count())\n",
    "print(branch_spark.count())\n",
    "print(branch_spark.distinct().count())\n",
    "print(custJoinbranch.count())\n",
    "print(custJoinbranch.distinct().count())\n",
    "print(customer_fix.count())\n",
    "print(customer_fix.distinct().count())\n",
    "# print(customer_fix1.count())\n",
    "# print(customer_fix1.distinct().count())"
   ]
  },
  {
   "cell_type": "code",
   "execution_count": 4,
   "metadata": {},
   "outputs": [
    {
     "name": "stdout",
     "output_type": "stream",
     "text": [
      "+------+----------------+------------+-------------+--------------------+----------+----------+--------+----------+---------+--------------------+-----------+---------+-----------------+\n",
      "|APT_NO|  CREDIT_CARD_NO|   CUST_CITY| CUST_COUNTRY|          CUST_EMAIL|CUST_PHONE|CUST_STATE|CUST_ZIP|FIRST_NAME|LAST_NAME|        LAST_UPDATED|MIDDLE_NAME|      SSN|      STREET_NAME|\n",
      "+------+----------------+------------+-------------+--------------------+----------+----------+--------+----------+---------+--------------------+-----------+---------+-----------------+\n",
      "|   656|4210653310061055|     Natchez|United States| AHooper@example.com|   1237818|        MS|   39120|      Alec|   Hooper|2018-04-21T12:49:...|         Wm|123456100|Main Street North|\n",
      "|   829|4210653310102868|Wethersfield|United States| EHolman@example.com|   1238933|        CT|   06109|      Etta|   Holman|2018-04-21T12:49:...|    Brendan|123453023|    Redwood Drive|\n",
      "|   683|4210653310116272|     Huntley|United States| WDunham@example.com|   1243018|        IL|   60142|    Wilber|   Dunham|2018-04-21T12:49:...|   Ezequiel|123454487| 12th Street East|\n",
      "|   253|4210653310195948|   NewBerlin|United States|  EHardy@example.com|   1243215|        WI|   53151|   Eugenio|    Hardy|2018-04-21T12:49:...|      Trina|123459758|Country Club Road|\n",
      "|   301|4210653310356919|      ElPaso|United States|  WAyers@example.com|   1242074|        TX|   79930|   Wilfred|    Ayers|2018-04-21T12:49:...|        May|123454431|   Madison Street|\n",
      "|     3|4210653310395982|NorthOlmsted|United States|BWoodard@example.com|   1242570|        OH|   44070|      Beau|  Woodard|2018-04-21T12:49:...|    Ambrose|123454202|   Colonial Drive|\n",
      "|    84|4210653310400536|      Vienna|United States|   SKemp@example.com|   1239685|        VA|   22180|    Sheila|     Kemp|2018-04-21T12:49:...|      Larry|123451799|   Belmont Avenue|\n",
      "|   728|4210653310459911|      Duarte|United States| WHurley@example.com|   1238213|        CA|   91010|     Wendy|   Hurley|2018-04-21T12:49:...|        Ora|123453875|     Oxford Court|\n",
      "|    81|4210653310773972|      Owosso|United States|AGilmore@example.com|   1240689|        MI|   48867|      Alec|  Gilmore|2018-04-21T12:49:...|     Tracie|123457511|    Forest Street|\n",
      "|   561|4210653310794854|        Zion|United States|    BLau@example.com|   1235222|        IL|   60099|    Barbra|      Lau|2018-04-21T12:49:...|    Mitchel|123457464|     Court Street|\n",
      "|   622|4210653310817373|  Youngstown|United States|EThomson@example.com|   1241363|        OH|   44512|   Edmundo|  Thomson|2018-04-21T12:49:...|      Denny|123457639|    Cypress Court|\n",
      "|   924|4210653310844617| Summerville|United States| ETruong@example.com|   1236228|        SC|   29483|      Elsa|   Truong|2018-04-21T12:49:...|   Isabelle|123453242|  8th Street West|\n",
      "|   611|4210653311015303|      ElPaso|United States|HMckinney@example...|   1238165|        TX|   79930|     Homer| Mckinney|2018-04-21T12:49:...|      Henry|123454339|      East Avenue|\n",
      "|   680|4210653311215039|      Fenton|United States|   RKidd@example.com|   1234730|        MI|   48430|      Rita|     Kidd|2018-04-21T12:49:...|     Rickey|123454537|         Route 44|\n",
      "|    71|4210653311229354|  Grandville|United States|ABallard@example.com|   1242113|        MI|   49418|    Amalia|  Ballard|2018-04-21T12:49:...|  Heriberto|123452373|    Warren Street|\n",
      "|   195|4210653311652836|    YubaCity|United States| PThomas@example.com|   1239888|        CA|   95993|     Patty|   Thomas|2018-04-21T12:49:...|   Angelita|123455343|     Jones Street|\n",
      "|   500|4210653311707126|   CapeCoral|United States| JMorrow@example.com|   1240158|        FL|   33904|  Josefina|   Morrow|2018-04-21T12:49:...|   Dorothea|123451533|       New Street|\n",
      "|   989|4210653311730764|  Brookfield|United States|NAndrews@example.com|   1241408|        WI|   53045|    Nelson|  Andrews|2018-04-21T12:49:...|  Jefferson|123459278|  Division Street|\n",
      "|   810|4210653311898082|    Richmond|United States|MSchneider@exampl...|   1238390|        VA|   23223|    Miquel|Schneider|2018-04-21T12:49:...|     Maximo|123456915|     Maple Street|\n",
      "|   649|4210653312021765| WestChester|United States|PTidwell@example.com|   1235067|        PA|   19380|    Parker|  Tidwell|2018-04-21T12:49:...|    Arnulfo|123453807|       Eagle Road|\n",
      "+------+----------------+------------+-------------+--------------------+----------+----------+--------+----------+---------+--------------------+-----------+---------+-----------------+\n",
      "only showing top 20 rows\n",
      "\n",
      "+----------------+------------+-------------+--------------------+-------------+----------+--------+----------+----------+-----------+---------+--------------------+\n",
      "|  CREDIT_CARD_NO|   CUST_CITY| CUST_COUNTRY|          CUST_EMAIL|   CUST_PHONE|CUST_STATE|CUST_ZIP|FIRST_NAME| LAST_NAME|MIDDLE_NAME|      SSN| FULL_STREET_ADDRESS|\n",
      "+----------------+------------+-------------+--------------------+-------------+----------+--------+----------+----------+-----------+---------+--------------------+\n",
      "|4210653344660822|Chambersburg|United States|   MCamp@example.com|(123)494-1782|        PA|   17201|    Marcel|      Camp|    andreas|123451007|  762,College Avenue|\n",
      "|4210653375981317|  SanLorenzo|United States| SFields@example.com|(123)433-4687|        CA|   94580|    Stacey|    Fields|   garfield|123451012|  419,Sycamore Drive|\n",
      "|4210653316827505|  Carrollton|United States|   OFinn@example.com|(123)494-3309|        GA|   30117|      Oren|      Finn| bernadette|123451037|     389,Winding Way|\n",
      "|4210653352152800|  Reidsville|United States|   ILane@example.com|(123)433-7396|        NC|   27320|       Ike|      Lane|      logan|123451041|    489,Henry Street|\n",
      "|4210653312588692|     Rowlett|United States|TRichards@example...|(123)433-6077|        TX|   75088|    Tracey|  Richards|     austin|123451068|     147,Durham Road|\n",
      "|4210653376538491|    Victoria|United States|LCampbell@example...|(123)434-0528|        TX|   77904|   Loraine|  Campbell|       abel|123451069| 561,Chestnut Street|\n",
      "|4210653327270061|       Osseo|United States| RDeleon@example.com|(123)414-0421|        MN|   55311|   Rosanne|    Deleon|      tania|123451070|     500,Holly Drive|\n",
      "|4210653314009556|     Trenton|United States|  DParks@example.com|(123)443-5784|        NJ|   08610|     Daryl|     Parks|       erin|123451071|     84,Broad Street|\n",
      "|4210653379290313|    NewHaven|United States| AWomack@example.com|(123)434-2026|        CT|   06511|     Addie|    Womack|      agnes|123451088|     656,East Avenue|\n",
      "|4210653322807170|   Jonesboro|United States|   NLugo@example.com|(123)493-9010|        GA|   30236|     Nikki|      Lugo|      joyce|123451092|        724,Route 41|\n",
      "|4210653389763988|   Plainview|United States|  KHines@example.com|(123)463-8634|        NY|   11803|      Kris|     Hines|      cyrus|123451093|    30,Mulberry Lane|\n",
      "|4210653371997788|    NewHaven|United States|JMcconnell@exampl...|(123)434-1487|        CT|   06511|   Justina| Mcconnell|   clifford|123451104|     116,Aspen Court|\n",
      "|4210653337579457|   NewBerlin|United States|  FChase@example.com|(123)474-3104|        WI|   53151|      Fern|     Chase|    pearlie|123451105|   401,Spruce Street|\n",
      "|4210653383788447|     Acworth|United States|   HDoss@example.com|(123)494-3066|        GA|   30101|  Hipolito|      Doss|       huey|123451108|    158,South Street|\n",
      "|4210653379686106|  Grandville|United States|   TDaly@example.com|(123)494-1370|        MI|   49418|        Ty|      Daly|    leticia|123451125|717,Brandywine Drive|\n",
      "|4210653365921958|  Bettendorf|United States|LBillings@example...|(123)443-9862|        IA|   52722|    Lamont|  Billings|    arnoldo|123451131|716,Schoolhouse Lane|\n",
      "|4210653332949005|  GardenCity|United States|HChambers@example...|(123)463-8709|        NY|   11530|    Hayden|  Chambers|     corina|123451135|     181,Willow Lane|\n",
      "|4210653314938984|Kernersville|United States|RKennedy@example.com|(123)434-0490|        NC|   27284| Rigoberto|   Kennedy|    annette|123451152|   235,Laurel Street|\n",
      "|4210653367134037|    Bethesda|United States|MMcwilliams@examp...|(123)474-0021|        MD|   20814|      Matt|Mcwilliams|     arthur|123451164| 712,Sheffield Drive|\n",
      "|4210653375232564|    Wilmette|United States|RMeadows@example.com|(123)473-5202|        IL|   60091|   Rodrigo|   Meadows|      mauro|123451170|         28,Route 64|\n",
      "+----------------+------------+-------------+--------------------+-------------+----------+--------+----------+----------+-----------+---------+--------------------+\n",
      "only showing top 20 rows\n",
      "\n"
     ]
    }
   ],
   "source": [
    "#transforming the specified columns, from the mapping document, of the extracted customer df into new df\n",
    "# tran_cust_spark = customer_spark.transform(tran_cust_title_case, 'FIRST_NAME')\\\n",
    "tran_cust_spark = customer_fix.transform(tran_cust_title_case, 'FIRST_NAME')\\\n",
    ".transform(tran_cust_lower_case, 'MIDDLE_NAME')\\\n",
    ".transform(tran_cust_title_case, 'LAST_NAME')\\\n",
    ".transform(concat_cust_street_apt, 'APT_NO', 'STREET_NAME')\\\n",
    ".drop('STREET_NAME', 'APT_NO')\\\n",
    ".transform(tran_phone_num, 'CUST_PHONE')\n",
    "\n",
    "\n",
    "customer_spark.show()\n",
    "tran_cust_spark.show()\n"
   ]
  },
  {
   "cell_type": "code",
   "execution_count": 6,
   "metadata": {},
   "outputs": [
    {
     "name": "stdout",
     "output_type": "stream",
     "text": [
      "952\n",
      "952\n",
      "[('CREDIT_CARD_NO', 'string'), ('CUST_CITY', 'string'), ('CUST_COUNTRY', 'string'), ('CUST_EMAIL', 'string'), ('CUST_PHONE', 'string'), ('CUST_STATE', 'string'), ('CUST_ZIP', 'string'), ('FIRST_NAME', 'string'), ('LAST_NAME', 'string'), ('MIDDLE_NAME', 'string'), ('SSN', 'bigint'), ('FULL_STREET_ADDRESS', 'string')]\n"
     ]
    }
   ],
   "source": [
    "print(tran_cust_spark.count())\n",
    "print(tran_cust_spark.distinct().count())\n",
    "print(tran_cust_spark.dtypes)"
   ]
  },
  {
   "cell_type": "code",
   "execution_count": 5,
   "metadata": {},
   "outputs": [
    {
     "name": "stdout",
     "output_type": "stream",
     "text": [
      "+-----------------+-----------+------------+------------+------------+-------------------+----------+--------------------+\n",
      "|      BRANCH_CITY|BRANCH_CODE| BRANCH_NAME|BRANCH_PHONE|BRANCH_STATE|      BRANCH_STREET|BRANCH_ZIP|        LAST_UPDATED|\n",
      "+-----------------+-----------+------------+------------+------------+-------------------+----------+--------------------+\n",
      "|        Lakeville|          1|Example Bank|  1234565276|          MN|       Bridle Court|     55044|2018-04-18T16:51:...|\n",
      "|          Huntley|          2|Example Bank|  1234618993|          IL|  Washington Street|     60142|2018-04-18T16:51:...|\n",
      "|SouthRichmondHill|          3|Example Bank|  1234985926|          NY|      Warren Street|     11419|2018-04-18T16:51:...|\n",
      "|       Middleburg|          4|Example Bank|  1234663064|          FL|   Cleveland Street|     32068|2018-04-18T16:51:...|\n",
      "|    KingOfPrussia|          5|Example Bank|  1234849701|          PA|        14th Street|     19406|2018-04-18T16:51:...|\n",
      "|         Paterson|          7|Example Bank|  1234144890|          NJ|   Jefferson Street|      7501|2018-04-18T16:51:...|\n",
      "|        Pittsford|          8|Example Bank|  1234678272|          NY|           B Street|     14534|2018-04-18T16:51:...|\n",
      "|     Wethersfield|          9|Example Bank|  1234675219|          CT|    Jefferson Court|      6109|2018-04-18T16:51:...|\n",
      "|     NorthOlmsted|         10|Example Bank|  1234145047|          OH|     Cambridge Road|     44070|2018-04-18T16:51:...|\n",
      "|     Hillsborough|         11|Example Bank|  1234366354|          NJ|    3rd Street West|      8844|2018-04-18T16:51:...|\n",
      "|   MadisonHeights|         12|Example Bank|  1234867175|          MI|          Mill Road|     48071|2018-04-18T16:51:...|\n",
      "|           Oviedo|         14|Example Bank|  1234938460|          FL|  Washington Street|     32765|2018-04-18T16:51:...|\n",
      "|    Mechanicsburg|         15|Example Bank|  1234462043|          PA|    Chestnut Street|     17050|2018-04-18T16:51:...|\n",
      "|        Plainview|         16|Example Bank|  1234857525|          NY|       Monroe Drive|     11803|2018-04-18T16:51:...|\n",
      "|          Paducah|         17|Example Bank|  1234546360|          KY|    Railroad Street|     42001|2018-04-18T16:51:...|\n",
      "|     Harleysville|         18|Example Bank|  1234824455|          PA|Church Street South|     19438|2018-04-18T16:51:...|\n",
      "|     SilverSpring|         19|Example Bank|  1234484380|          MD|        King Street|     20901|2018-04-18T16:51:...|\n",
      "|       Burnsville|         20|Example Bank|  1234840138|          MN|   Canterbury Drive|     55337|2018-04-18T16:51:...|\n",
      "|           Tacoma|         21|Example Bank|  1234362433|          WA|         2nd Avenue|     98444|2018-04-18T16:51:...|\n",
      "|         Carlisle|         22|Example Bank|  1234922492|          PA| Front Street South|     17013|2018-04-18T16:51:...|\n",
      "+-----------------+-----------+------------+------------+------------+-------------------+----------+--------------------+\n",
      "only showing top 20 rows\n",
      "\n",
      "+-----------------+-----------+------------+-------------+------------+-------------------+----------+--------------------+\n",
      "|      BRANCH_CITY|BRANCH_CODE| BRANCH_NAME| BRANCH_PHONE|BRANCH_STATE|      BRANCH_STREET|BRANCH_ZIP|        LAST_UPDATED|\n",
      "+-----------------+-----------+------------+-------------+------------+-------------------+----------+--------------------+\n",
      "|        Lakeville|          1|Example Bank|(123)456-5276|          MN|       Bridle Court|     55044|2018-04-18T16:51:...|\n",
      "|          Huntley|          2|Example Bank|(123)461-8993|          IL|  Washington Street|     60142|2018-04-18T16:51:...|\n",
      "|SouthRichmondHill|          3|Example Bank|(123)498-5926|          NY|      Warren Street|     11419|2018-04-18T16:51:...|\n",
      "|       Middleburg|          4|Example Bank|(123)466-3064|          FL|   Cleveland Street|     32068|2018-04-18T16:51:...|\n",
      "|    KingOfPrussia|          5|Example Bank|(123)484-9701|          PA|        14th Street|     19406|2018-04-18T16:51:...|\n",
      "|         Paterson|          7|Example Bank|(123)414-4890|          NJ|   Jefferson Street|      7501|2018-04-18T16:51:...|\n",
      "|        Pittsford|          8|Example Bank|(123)467-8272|          NY|           B Street|     14534|2018-04-18T16:51:...|\n",
      "|     Wethersfield|          9|Example Bank|(123)467-5219|          CT|    Jefferson Court|      6109|2018-04-18T16:51:...|\n",
      "|     NorthOlmsted|         10|Example Bank|(123)414-5047|          OH|     Cambridge Road|     44070|2018-04-18T16:51:...|\n",
      "|     Hillsborough|         11|Example Bank|(123)436-6354|          NJ|    3rd Street West|      8844|2018-04-18T16:51:...|\n",
      "|   MadisonHeights|         12|Example Bank|(123)486-7175|          MI|          Mill Road|     48071|2018-04-18T16:51:...|\n",
      "|           Oviedo|         14|Example Bank|(123)493-8460|          FL|  Washington Street|     32765|2018-04-18T16:51:...|\n",
      "|    Mechanicsburg|         15|Example Bank|(123)446-2043|          PA|    Chestnut Street|     17050|2018-04-18T16:51:...|\n",
      "|        Plainview|         16|Example Bank|(123)485-7525|          NY|       Monroe Drive|     11803|2018-04-18T16:51:...|\n",
      "|          Paducah|         17|Example Bank|(123)454-6360|          KY|    Railroad Street|     42001|2018-04-18T16:51:...|\n",
      "|     Harleysville|         18|Example Bank|(123)482-4455|          PA|Church Street South|     19438|2018-04-18T16:51:...|\n",
      "|     SilverSpring|         19|Example Bank|(123)448-4380|          MD|        King Street|     20901|2018-04-18T16:51:...|\n",
      "|       Burnsville|         20|Example Bank|(123)484-0138|          MN|   Canterbury Drive|     55337|2018-04-18T16:51:...|\n",
      "|           Tacoma|         21|Example Bank|(123)436-2433|          WA|         2nd Avenue|     98444|2018-04-18T16:51:...|\n",
      "|         Carlisle|         22|Example Bank|(123)492-2492|          PA| Front Street South|     17013|2018-04-18T16:51:...|\n",
      "+-----------------+-----------+------------+-------------+------------+-------------------+----------+--------------------+\n",
      "only showing top 20 rows\n",
      "\n"
     ]
    }
   ],
   "source": [
    "#transforming the specified columns, from the mapping document, of the extracted branch df into new df\n",
    "#just need to transform the branch_zip if the source value is null load default (99999) value else direct move\n",
    "#and branch_phone change the format of phone number to (xxx)xxx-xxxx\n",
    "tran_branch_spark = branch_spark.transform(tran_branch_zip)\\\n",
    ".transform(tran_phone_num, 'BRANCH_PHONE')\n",
    "\n",
    "branch_spark.show()\n",
    "tran_branch_spark.show()\n",
    "\n"
   ]
  },
  {
   "cell_type": "code",
   "execution_count": 16,
   "metadata": {},
   "outputs": [
    {
     "name": "stdout",
     "output_type": "stream",
     "text": [
      "+-----------------------------+\n",
      "|last_updated                 |\n",
      "+-----------------------------+\n",
      "|2018-04-18T16:51:47.000-04:00|\n",
      "|2018-04-18T16:51:47.000-04:00|\n",
      "|2018-04-18T16:51:47.000-04:00|\n",
      "|2018-04-18T16:51:47.000-04:00|\n",
      "|2018-04-18T16:51:47.000-04:00|\n",
      "|2018-04-18T16:51:47.000-04:00|\n",
      "|2018-04-18T16:51:47.000-04:00|\n",
      "|2018-04-18T16:51:47.000-04:00|\n",
      "|2018-04-18T16:51:47.000-04:00|\n",
      "|2018-04-18T16:51:47.000-04:00|\n",
      "|2018-04-18T16:51:47.000-04:00|\n",
      "|2018-04-18T16:51:47.000-04:00|\n",
      "|2018-04-18T16:51:47.000-04:00|\n",
      "|2018-04-18T16:51:47.000-04:00|\n",
      "|2018-04-18T16:51:47.000-04:00|\n",
      "|2018-04-18T16:51:47.000-04:00|\n",
      "|2018-04-18T16:51:47.000-04:00|\n",
      "|2018-04-18T16:51:47.000-04:00|\n",
      "|2018-04-18T16:51:47.000-04:00|\n",
      "|2018-04-18T16:51:47.000-04:00|\n",
      "+-----------------------------+\n",
      "only showing top 20 rows\n",
      "\n"
     ]
    }
   ],
   "source": [
    "#have to set sparks configuration to legacy to stop getting error from parsing the to_date, throws null now if it isn't valid\n",
    "# spark.conf.set(\"spark.sql.legacy.timeParserPolicy\", \"LEGACY\")\n",
    "tran_branch_spark.select('last_updated').show(truncate=False)"
   ]
  },
  {
   "cell_type": "code",
   "execution_count": 22,
   "metadata": {},
   "outputs": [
    {
     "name": "stdout",
     "output_type": "stream",
     "text": [
      "2018-04-18T16:51:47.000-04:00\n"
     ]
    }
   ],
   "source": [
    "# date_syntax = tran_branch_spark.select('last_updated')\n",
    "# date_column = to_date(date_syntax)\n",
    "# date_format_syntax = date_column.cast(StringType()).expr._jc.getDateFormat()"
   ]
  },
  {
   "cell_type": "code",
   "execution_count": 6,
   "metadata": {},
   "outputs": [
    {
     "name": "stdout",
     "output_type": "stream",
     "text": [
      "+-----------+----------------+---------+---+-----+--------------+----------------+-----------------+----+\n",
      "|BRANCH_CODE|  CREDIT_CARD_NO| CUST_SSN|DAY|MONTH|TRANSACTION_ID|TRANSACTION_TYPE|TRANSACTION_VALUE|YEAR|\n",
      "+-----------+----------------+---------+---+-----+--------------+----------------+-----------------+----+\n",
      "|        114|4210653349028689|123459988| 14|    2|             1|       Education|             78.9|2018|\n",
      "|         35|4210653349028689|123459988| 20|    3|             2|   Entertainment|            14.24|2018|\n",
      "|        160|4210653349028689|123459988|  8|    7|             3|         Grocery|             56.7|2018|\n",
      "|        114|4210653349028689|123459988| 19|    4|             4|   Entertainment|            59.73|2018|\n",
      "|         93|4210653349028689|123459988| 10|   10|             5|             Gas|             3.59|2018|\n",
      "|        164|4210653349028689|123459988| 28|    5|             6|       Education|             6.89|2018|\n",
      "|        119|4210653349028689|123459988| 19|    5|             7|   Entertainment|            43.39|2018|\n",
      "|         23|4210653349028689|123459988|  8|    8|             8|             Gas|            95.39|2018|\n",
      "|        166|4210653349028689|123459988| 18|    3|             9|   Entertainment|            93.26|2018|\n",
      "|         83|4210653349028689|123459988|  3|    9|            10|           Bills|           100.38|2018|\n",
      "|         52|4210653349028689|123459988| 21|    8|            11|             Gas|            98.75|2018|\n",
      "|         17|4210653349028689|123459988| 24|   12|            12|             Gas|            42.71|2018|\n",
      "|         80|4210653349028689|123459988|  3|    4|            13|         Grocery|            40.24|2018|\n",
      "|         50|4210653349028689|123459988| 15|    4|            14|           Bills|            17.81|2018|\n",
      "|        123|4210653349028689|123459988| 17|    5|            15|           Bills|             29.0|2018|\n",
      "|          9|4210653349028689|123459988|  6|    7|            16|            Test|            70.63|2018|\n",
      "|          3|4210653349028689|123459988| 28|    9|            17|            Test|            27.04|2018|\n",
      "|        135|4210653349028689|123459988|  4|    7|            18|   Entertainment|            88.75|2018|\n",
      "|        103|4210653349028689|123459988| 24|    4|            19|            Test|            77.02|2018|\n",
      "|         78|4210653349028689|123459988|  8|   10|            20|           Bills|            34.34|2018|\n",
      "+-----------+----------------+---------+---+-----+--------------+----------------+-----------------+----+\n",
      "only showing top 20 rows\n",
      "\n",
      "+-----------+----------------+---------+--------------+----------------+-----------------+----------+\n",
      "|BRANCH_CODE|  CREDIT_CARD_NO| CUST_SSN|TRANSACTION_ID|TRANSACTION_TYPE|TRANSACTION_VALUE|    TIMEID|\n",
      "+-----------+----------------+---------+--------------+----------------+-----------------+----------+\n",
      "|        114|4210653349028689|123459988|             1|       Education|             78.9|2018-02-14|\n",
      "|         35|4210653349028689|123459988|             2|   Entertainment|            14.24|2018-03-20|\n",
      "|        160|4210653349028689|123459988|             3|         Grocery|             56.7|2018-07-08|\n",
      "|        114|4210653349028689|123459988|             4|   Entertainment|            59.73|2018-04-19|\n",
      "|         93|4210653349028689|123459988|             5|             Gas|             3.59|2018-10-10|\n",
      "|        164|4210653349028689|123459988|             6|       Education|             6.89|2018-05-28|\n",
      "|        119|4210653349028689|123459988|             7|   Entertainment|            43.39|2018-05-19|\n",
      "|         23|4210653349028689|123459988|             8|             Gas|            95.39|2018-08-08|\n",
      "|        166|4210653349028689|123459988|             9|   Entertainment|            93.26|2018-03-18|\n",
      "|         83|4210653349028689|123459988|            10|           Bills|           100.38|2018-09-03|\n",
      "|         52|4210653349028689|123459988|            11|             Gas|            98.75|2018-08-21|\n",
      "|         17|4210653349028689|123459988|            12|             Gas|            42.71|2018-12-24|\n",
      "|         80|4210653349028689|123459988|            13|         Grocery|            40.24|2018-04-03|\n",
      "|         50|4210653349028689|123459988|            14|           Bills|            17.81|2018-04-15|\n",
      "|        123|4210653349028689|123459988|            15|           Bills|             29.0|2018-05-17|\n",
      "|          9|4210653349028689|123459988|            16|            Test|            70.63|2018-07-06|\n",
      "|          3|4210653349028689|123459988|            17|            Test|            27.04|2018-09-28|\n",
      "|        135|4210653349028689|123459988|            18|   Entertainment|            88.75|2018-07-04|\n",
      "|        103|4210653349028689|123459988|            19|            Test|            77.02|2018-04-24|\n",
      "|         78|4210653349028689|123459988|            20|           Bills|            34.34|2018-10-08|\n",
      "+-----------+----------------+---------+--------------+----------------+-----------------+----------+\n",
      "only showing top 20 rows\n",
      "\n"
     ]
    }
   ],
   "source": [
    "#transforming the specified columns, from the mapping document, of the extracted credit df into new df\n",
    "#just need to convert/concat the day, month, year columns into a TIMEID (YYYYMMDD)\n",
    "#is there a way to use a timestamp and not just concat? is there an easier way?\n",
    "tran_credit_spark = credit_spark.transform(tran_to_timeid, 'DAY', 'MONTH', 'YEAR')\\\n",
    ".drop('DAY','MONTH','YEAR')\n",
    "\n",
    "credit_spark.show()\n",
    "tran_credit_spark.show()\n"
   ]
  },
  {
   "cell_type": "code",
   "execution_count": 7,
   "metadata": {},
   "outputs": [],
   "source": [
    "#create and populate the requisite tables in SQL db creditcard_capstone\n",
    "tran_cust_spark.write.format(\"jdbc\").options(driver=\"com.mysql.cj.jdbc.Driver\",\n",
    "                                     user=\"root\",\n",
    "                                     password=\"password\",\n",
    "                                     url=\"jdbc:mysql://localhost:3306/creditcard_capstone\",\n",
    "                                     dbtable=\"CDW_SAPP_CUSTOMER\", \n",
    "                                     ).mode('overwrite').save()\n",
    "\n",
    "tran_branch_spark.write.format(\"jdbc\").options(driver=\"com.mysql.cj.jdbc.Driver\",\n",
    "                                     user=\"root\",\n",
    "                                     password=\"password\",\n",
    "                                     url=\"jdbc:mysql://localhost:3306/creditcard_capstone\",\n",
    "                                     dbtable=\"CDW_SAPP_BRANCH\", \n",
    "                                     ).mode('overwrite').save()\n",
    "\n",
    "tran_credit_spark.write.format(\"jdbc\").options(driver=\"com.mysql.cj.jdbc.Driver\",\n",
    "                                     user=\"root\",\n",
    "                                     password=\"password\",\n",
    "                                     url=\"jdbc:mysql://localhost:3306/creditcard_capstone\",\n",
    "                                     dbtable=\"CDW_SAPP_CREDIT_CARD\", \n",
    "                                     ).mode('overwrite').save()"
   ]
  },
  {
   "cell_type": "code",
   "execution_count": 8,
   "metadata": {},
   "outputs": [],
   "source": [
    "# Read the data from the MySQL table\n",
    "cust_sql = spark.read.format(\"jdbc\").options(driver=\"com.mysql.cj.jdbc.Driver\",\n",
    "                                             user=\"root\",\n",
    "                                             password=\"password\",\n",
    "                                             url=\"jdbc:mysql://localhost:3306/creditcard_capstone\",\n",
    "                                             dbtable=\"CDW_SAPP_CUSTOMER\"\n",
    "                                             ).load()\n",
    "branch_sql = spark.read.format(\"jdbc\").options(driver=\"com.mysql.cj.jdbc.Driver\",\n",
    "                                             user=\"root\",\n",
    "                                             password=\"password\",\n",
    "                                             url=\"jdbc:mysql://localhost:3306/creditcard_capstone\",\n",
    "                                             dbtable=\"CDW_SAPP_BRANCH\"\n",
    "                                             ).load()\n",
    "credit_sql = spark.read.format(\"jdbc\").options(driver=\"com.mysql.cj.jdbc.Driver\",\n",
    "                                             user=\"root\",\n",
    "                                             password=\"password\",\n",
    "                                             url=\"jdbc:mysql://localhost:3306/creditcard_capstone\",\n",
    "                                             dbtable=\"CDW_SAPP_CREDIT_CARD\"\n",
    "                                             ).load()\n",
    "\n",
    "# Display the contents of the DataFrame\n",
    "# cap_spark.show()\n"
   ]
  },
  {
   "attachments": {},
   "cell_type": "markdown",
   "metadata": {},
   "source": [
    "Terminal Application\n",
    "\n",
    "Let's define a simple terminal app that we can make in this notebook. Greeter will:\n",
    "\n",
    "Always display a title bar at the top of the screen, showing the name of the app that is running.\n",
    "Offer you three choices:\n",
    "    Enter a name.\n",
    "        If the program knows that name, it will print a message saying something like \"Hello, old friend.\"\n",
    "        If the program does not know that name, it will print a message saying something like, \"It's nice to meet you. I will remember you.\"\n",
    "            The next time the program hears this name, it will greet the person as an old friend.\n",
    "    See a list of everyone that is known.\n",
    "    Quit.\n",
    "The program will remember people, even after it closes.\n",
    "The program may list the number of known people in the title bar.\n",
    "\n",
    "\n",
    "Now we will go over a few things we need to know in order to build this app, and then we will build it."
   ]
  },
  {
   "cell_type": "code",
   "execution_count": null,
   "metadata": {},
   "outputs": [],
   "source": [
    "# FUNCTIONS\n",
    "\n",
    "def display_title_bar():\n",
    "    # Clears the terminal screen, and displays a title bar.\n",
    "    os.system('cls')\n",
    "              \n",
    "    print(\"\\t**********************************************\")\n",
    "    print(\"\\t***  Welcome to Chad's Final Project!  ***\")\n",
    "    print(\"\\t**********************************************\")\n",
    "\n",
    "def get_user_choice():\n",
    "    # Menu options...\n",
    "    print(\"[1] Display transactions by customers given zip code and date?.\")\n",
    "    print(\"[2] Display the number and total values of tranactions of a given TYPE.\")\n",
    "    print(\"[3] Display the number and total values of transactions for branches of a given STATE.\")\n",
    "    print(\"[4] Check account details of an existing customer.\")\n",
    "    print(\"[5] Modify the details of an existing customer's account.\")\n",
    "    print(\"[6] Generate a monthly bill for a credit card number, given the month and year.\")\n",
    "    print(\"[7] Display the transactions of a customer between two given dates.\")\n",
    "    print(\"[8] Quit.\")\n",
    "    \n",
    "    return input(\"What would you like to do? \")\n",
    "\n",
    "# Removed the visualization and plotting functions\n",
    "\n",
    "# check_case function remains the same\n",
    "\n",
    "# MAIN PROGRAM\n",
    "\n",
    "choice = ''\n",
    "display_title_bar()\n",
    "while choice != '8':    \n",
    "    choice = get_user_choice()\n",
    "    \n",
    "    if choice == '1':\n",
    "        zip = input(\"Enter the 5 digit desired zipcode: \")\n",
    "        zip = check_case(zip, zip_pattern)\n",
    "        y = input(\"Enter in year (yyyy): \")\n",
    "        y = check_case(y, year_pattern)\n",
    "        m = input(\"Enter in month (MM): \")\n",
    "        m = check_case(m, month_pattern)\n",
    "        disp_tran_by_cust_zip(zip, y, m)\n",
    "    elif choice == '2':\n",
    "        t_type = input(\"Enter desired transaction type(Education, Entertainment, Healthcare, Grocery, Test, Gas, Bills): \")\n",
    "        t_type = check_case(t_type, transaction_type_pattern)\n",
    "        disp_tran_total_by_type(t_type)\n",
    "    elif choice == '3':\n",
    "        state = input(\"Enter desired state of query: \")\n",
    "        state = check_case(state, state_pattern)\n",
    "        disp_tran_total_by_branch_state(state)\n",
    "    elif choice == '4':\n",
    "        cust_ssn = input(\"Enter in customer's SSN: \")\n",
    "        cust_ssn = check_case(cust_ssn, ssn_pattern)\n",
    "        check_cust_exist(cust_ssn)\n",
    "    elif choice == '5':\n",
    "        cust_ssn = input(\"Enter customer's SSN for the acconut account you wish to modify: \")\n",
    "        cust_ssn = check_case(cust_ssn, ssn_pattern)\n",
    "        modify_cust_account(cust_ssn)\n",
    "    elif choice == '6':\n",
    "        card = input(\"Enter in credit card number: \")\n",
    "        card = check_case(card, credit_card_pattern)\n",
    "        y = input(\"Enter in year (yyyy): \")\n",
    "        y = check_case(y, year_pattern)\n",
    "        m = input(\"Enter in month (MM): \")\n",
    "        m = check_case(m, month_pattern)\n",
    "        gen_monthly_bill_by_card_number(card, y, m)\n",
    "    elif choice == '7':\n",
    "        cust_ssn = input(\"Enter in customer's SSN number: \")\n",
    "        cust_ssn = check_case(cust_ssn, ssn_pattern)\n",
    "        sd = input(\"Enter in start date (YYYY-MM-DD): \")\n",
    "        sd = check_case(sd, date_pattern)\n",
    "        ed = input(\"Enter in end date (YYYY-MM-DD): \")\n",
    "        ed = check_case(ed, date_pattern)\n",
    "        disp_tran_by_cust_between_given_dates(cust_ssn, sd, ed)\n",
    "    elif choice == '8':\n",
    "        print(\"\\nExiting program.\")\n",
    "    else:\n",
    "        print(\"\\nI didn't understand that choice.\\n\")\n"
   ]
  },
  {
   "cell_type": "code",
   "execution_count": 9,
   "metadata": {},
   "outputs": [
    {
     "name": "stdout",
     "output_type": "stream",
     "text": [
      "200\n"
     ]
    }
   ],
   "source": [
    "#Loan Application Data API\n",
    "#Banks want to automate the loan eligibility process (in realtime) based on customer details provided\n",
    "# while filling out the online application form. These details are Gender, Marital Status, Education,\n",
    "# Number of Dependents, Income, Loan Amount, Credit History, and others.\n",
    "\n",
    "# char_keys = {}\n",
    "# for application in loan_data:\n",
    "#     for key, value in application.items():\n",
    "#         char_keys[key] = value\n",
    "# pp(char_keys)\n",
    "\n",
    "\n",
    "#4. Functional Requirements - LOAN Application Dataset\n",
    "\n",
    "#Create a Python program to GET (consume) data from the above API endpoint for the loan\n",
    "#  application dataset.\n",
    "bank_url = 'https://raw.githubusercontent.com/platformps/LoanDataset/main/loan_data.json'\n",
    "response = requests.get(bank_url)\n",
    "loan_data = response.json()\n",
    "\n",
    "#Find the status code of the above API endpoint.\n",
    "# Hint: status code could be 200, 400, 404, 401.\n",
    "print(response.status_code)\n",
    "\n",
    "#Once Python reads data from the API, utilize PySpark to load data into RDBMS (SQL).\n",
    "# The table name should be CDW-SAPP_loan_application in the database.\n",
    "# Note: Use the “creditcard_capstone” database.\n",
    "loan_df = spark.createDataFrame(loan_data)\n",
    "loan_df.write.format(\"jdbc\").options(driver=\"com.mysql.cj.jdbc.Driver\",\n",
    "                                     user=\"root\",\n",
    "                                     password=\"password\",\n",
    "                                     url=\"jdbc:mysql://localhost:3306/creditcard_capstone\",\n",
    "                                     dbtable=\"CDW_SAPP_loan_application\", \n",
    "                                     ).mode('overwrite').save()\n",
    "\n",
    "\n"
   ]
  },
  {
   "cell_type": "code",
   "execution_count": 9,
   "metadata": {},
   "outputs": [],
   "source": [
    "import mysql.connector\n",
    "\n",
    "def modify_cust_account(cust_ssn, cust_sql):\n",
    "    con = mysql.connector.connect(user='root', password='password', host='localhost', database='creditcard_capstone')\n",
    "    cursor = con.cursor()\n",
    "    for column in cust_sql.columns:\n",
    "        user_input = input(f\"Do you want to modify customer's {column} (y/n): \")\n",
    "        if user_input.lower() == 'y':\n",
    "            new_value = input(f'Enter the new value for {column}: ')\n",
    "            update_q = f\"UPDATE CDW_SAPP_CUSTOMER SET {column} = %s WHERE SSN = %s\"\n",
    "            cursor.execute(update_q, (new_value, cust_ssn))\n",
    "    con.commit()\n",
    "    cursor.close()\n",
    "    con.close()\n",
    "modify_cust_account(123451007, cust_sql)"
   ]
  },
  {
   "cell_type": "code",
   "execution_count": 33,
   "metadata": {},
   "outputs": [
    {
     "data": {
      "text/plain": [
       "DataFrame[]"
      ]
     },
     "execution_count": 33,
     "metadata": {},
     "output_type": "execute_result"
    }
   ],
   "source": [
    "spark.sql(\"DROP TABLE IF EXISTS CDW_SAPP_CUSTOMER_MODIFIED\")"
   ]
  },
  {
   "cell_type": "code",
   "execution_count": 14,
   "metadata": {},
   "outputs": [
    {
     "data": {
      "text/plain": [
       "[Database(name='default', catalog='spark_catalog', description='default database', locationUri='file:/C:/Users/Learner_9ZH3Z126/2023_data_engineering/SBA-350-Final_Project/spark-warehouse')]"
      ]
     },
     "execution_count": 14,
     "metadata": {},
     "output_type": "execute_result"
    }
   ],
   "source": [
    "spark.catalog.listDatabases()"
   ]
  },
  {
   "attachments": {},
   "cell_type": "markdown",
   "metadata": {},
   "source": []
  }
 ],
 "metadata": {
  "kernelspec": {
   "display_name": "Python 3",
   "language": "python",
   "name": "python3"
  },
  "language_info": {
   "codemirror_mode": {
    "name": "ipython",
    "version": 3
   },
   "file_extension": ".py",
   "mimetype": "text/x-python",
   "name": "python",
   "nbconvert_exporter": "python",
   "pygments_lexer": "ipython3",
   "version": "3.10.10"
  },
  "orig_nbformat": 4
 },
 "nbformat": 4,
 "nbformat_minor": 2
}
